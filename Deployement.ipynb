{
 "cells": [
  {
   "cell_type": "code",
   "execution_count": 5,
   "id": "ac742ad0-b978-4643-8c64-a6bca7ce0a8b",
   "metadata": {},
   "outputs": [],
   "source": [
    "import pickle\n",
    "load_model = pickle.load(open('finalized_RandomForset_model.sav','rb'))\n",
    "result = load_model.predict([[300,400,300,1,0]])"
   ]
  },
  {
   "cell_type": "code",
   "execution_count": 6,
   "id": "d7f0c64f-234f-40e6-8fde-d16b1e3a97ca",
   "metadata": {},
   "outputs": [
    {
     "data": {
      "text/plain": [
       "array([18938.00358496])"
      ]
     },
     "execution_count": 6,
     "metadata": {},
     "output_type": "execute_result"
    }
   ],
   "source": [
    "result"
   ]
  },
  {
   "cell_type": "code",
   "execution_count": null,
   "id": "264c7c2d-de0f-4ece-8938-a1133e406ced",
   "metadata": {},
   "outputs": [],
   "source": []
  }
 ],
 "metadata": {
  "kernelspec": {
   "display_name": "Python 3 (ipykernel)",
   "language": "python",
   "name": "python3"
  },
  "language_info": {
   "codemirror_mode": {
    "name": "ipython",
    "version": 3
   },
   "file_extension": ".py",
   "mimetype": "text/x-python",
   "name": "python",
   "nbconvert_exporter": "python",
   "pygments_lexer": "ipython3",
   "version": "3.12.4"
  }
 },
 "nbformat": 4,
 "nbformat_minor": 5
}
